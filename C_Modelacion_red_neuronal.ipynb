{
  "nbformat": 4,
  "nbformat_minor": 0,
  "metadata": {
    "colab": {
      "provenance": [],
      "authorship_tag": "ABX9TyNEsHL5eOvpqmg+nMzORd6I",
      "include_colab_link": true
    },
    "kernelspec": {
      "name": "python3",
      "display_name": "Python 3"
    },
    "language_info": {
      "name": "python"
    }
  },
  "cells": [
    {
      "cell_type": "markdown",
      "metadata": {
        "id": "view-in-github",
        "colab_type": "text"
      },
      "source": [
        "<a href=\"https://colab.research.google.com/github/AngelicaCeDi/Analitica-3-caso-salud/blob/main/C_Modelacion_red_neuronal.ipynb\" target=\"_parent\"><img src=\"https://colab.research.google.com/assets/colab-badge.svg\" alt=\"Open In Colab\"/></a>"
      ]
    },
    {
      "cell_type": "code",
      "execution_count": 32,
      "metadata": {
        "colab": {
          "base_uri": "https://localhost:8080/",
          "height": 35
        },
        "id": "8Yx4d4nAsktk",
        "outputId": "df096335-c4c3-4124-854d-1d8bc0b7d8e5"
      },
      "outputs": [
        {
          "output_type": "execute_result",
          "data": {
            "text/plain": [
              "'/content'"
            ],
            "application/vnd.google.colaboratory.intrinsic+json": {
              "type": "string"
            }
          },
          "metadata": {},
          "execution_count": 32
        }
      ],
      "source": [
        "#IMPORTAR PAQUETES\n",
        "import sqlite3 as sql\n",
        "import pandas as pd\n",
        "import numpy as np\n",
        "import tensorflow as tf\n",
        "from sklearn.model_selection import train_test_split\n",
        "from sklearn.metrics import  confusion_matrix, classification_report\n",
        "from sklearn import preprocessing\n",
        "import matplotlib.pyplot as plt\n",
        "import seaborn as sns \n",
        "from imblearn.over_sampling import SMOTE\n",
        "import os\n",
        "os.getcwd()"
      ]
    },
    {
      "cell_type": "code",
      "source": [
        "!git clone \"https://github.com/AngelicaCeDi/Analitica-3-Caso-salud.git\" "
      ],
      "metadata": {
        "colab": {
          "base_uri": "https://localhost:8080/"
        },
        "id": "gk-5AEN1sqsU",
        "outputId": "49b26566-cf5c-408b-b9e5-182d33ca3548"
      },
      "execution_count": 33,
      "outputs": [
        {
          "output_type": "stream",
          "name": "stdout",
          "text": [
            "fatal: destination path 'Analitica-3-Caso-salud' already exists and is not an empty directory.\n"
          ]
        }
      ]
    },
    {
      "cell_type": "code",
      "source": [
        "os.chdir('/content') "
      ],
      "metadata": {
        "id": "jGALUEGpstZW"
      },
      "execution_count": 34,
      "outputs": []
    },
    {
      "cell_type": "code",
      "source": [
        "#Conexión con la base de datos.\n",
        "conn= sql.connect(\"/content/Analitica-3-Caso-salud/strokeb.db\") \n",
        "cur=conn.cursor()"
      ],
      "metadata": {
        "id": "b0zYviMksvfg"
      },
      "execution_count": 35,
      "outputs": []
    },
    {
      "cell_type": "code",
      "source": [
        "#Exploramos que tablas que hay en el sql. \n",
        "cur.execute(\"SELECT name FROM sqlite_master where type='table' \")\n",
        "cur.fetchall()"
      ],
      "metadata": {
        "colab": {
          "base_uri": "https://localhost:8080/"
        },
        "id": "0QRIhrTes35c",
        "outputId": "4d437c4f-467a-47c6-a774-4e0826a56e5a"
      },
      "execution_count": 36,
      "outputs": [
        {
          "output_type": "execute_result",
          "data": {
            "text/plain": [
              "[('stroke',)]"
            ]
          },
          "metadata": {},
          "execution_count": 36
        }
      ]
    },
    {
      "cell_type": "code",
      "source": [
        "pd.read_sql(\"SELECT * FROM stroke\",conn).head()"
      ],
      "metadata": {
        "colab": {
          "base_uri": "https://localhost:8080/",
          "height": 206
        },
        "id": "l_52ZODLu2JK",
        "outputId": "2212ad4f-2fae-4b47-8f4e-241233c3a5aa"
      },
      "execution_count": 37,
      "outputs": [
        {
          "output_type": "execute_result",
          "data": {
            "text/plain": [
              "   index  gender   age  hypertension  heart_disease  ever_married  \\\n",
              "0      0       1  67.0             0              1             1   \n",
              "1      1       1  80.0             0              1             1   \n",
              "2      2       0  49.0             0              0             1   \n",
              "3      3       0  79.0             1              0             1   \n",
              "4      4       1  81.0             0              0             1   \n",
              "\n",
              "       work_type  Residence_type  avg_glucose_level   bmi   smoking_status  \\\n",
              "0        Private               1             228.69  36.6  formerly smoked   \n",
              "1        Private               0             105.92  32.5     never smoked   \n",
              "2        Private               1             171.23  34.4           smokes   \n",
              "3  Self-employed               0             174.12  24.0     never smoked   \n",
              "4        Private               1             186.21  29.0  formerly smoked   \n",
              "\n",
              "   stroke  \n",
              "0       1  \n",
              "1       1  \n",
              "2       1  \n",
              "3       1  \n",
              "4       1  "
            ],
            "text/html": [
              "\n",
              "  <div id=\"df-26e7649e-5789-476b-9268-b43ba1d9ca10\">\n",
              "    <div class=\"colab-df-container\">\n",
              "      <div>\n",
              "<style scoped>\n",
              "    .dataframe tbody tr th:only-of-type {\n",
              "        vertical-align: middle;\n",
              "    }\n",
              "\n",
              "    .dataframe tbody tr th {\n",
              "        vertical-align: top;\n",
              "    }\n",
              "\n",
              "    .dataframe thead th {\n",
              "        text-align: right;\n",
              "    }\n",
              "</style>\n",
              "<table border=\"1\" class=\"dataframe\">\n",
              "  <thead>\n",
              "    <tr style=\"text-align: right;\">\n",
              "      <th></th>\n",
              "      <th>index</th>\n",
              "      <th>gender</th>\n",
              "      <th>age</th>\n",
              "      <th>hypertension</th>\n",
              "      <th>heart_disease</th>\n",
              "      <th>ever_married</th>\n",
              "      <th>work_type</th>\n",
              "      <th>Residence_type</th>\n",
              "      <th>avg_glucose_level</th>\n",
              "      <th>bmi</th>\n",
              "      <th>smoking_status</th>\n",
              "      <th>stroke</th>\n",
              "    </tr>\n",
              "  </thead>\n",
              "  <tbody>\n",
              "    <tr>\n",
              "      <th>0</th>\n",
              "      <td>0</td>\n",
              "      <td>1</td>\n",
              "      <td>67.0</td>\n",
              "      <td>0</td>\n",
              "      <td>1</td>\n",
              "      <td>1</td>\n",
              "      <td>Private</td>\n",
              "      <td>1</td>\n",
              "      <td>228.69</td>\n",
              "      <td>36.6</td>\n",
              "      <td>formerly smoked</td>\n",
              "      <td>1</td>\n",
              "    </tr>\n",
              "    <tr>\n",
              "      <th>1</th>\n",
              "      <td>1</td>\n",
              "      <td>1</td>\n",
              "      <td>80.0</td>\n",
              "      <td>0</td>\n",
              "      <td>1</td>\n",
              "      <td>1</td>\n",
              "      <td>Private</td>\n",
              "      <td>0</td>\n",
              "      <td>105.92</td>\n",
              "      <td>32.5</td>\n",
              "      <td>never smoked</td>\n",
              "      <td>1</td>\n",
              "    </tr>\n",
              "    <tr>\n",
              "      <th>2</th>\n",
              "      <td>2</td>\n",
              "      <td>0</td>\n",
              "      <td>49.0</td>\n",
              "      <td>0</td>\n",
              "      <td>0</td>\n",
              "      <td>1</td>\n",
              "      <td>Private</td>\n",
              "      <td>1</td>\n",
              "      <td>171.23</td>\n",
              "      <td>34.4</td>\n",
              "      <td>smokes</td>\n",
              "      <td>1</td>\n",
              "    </tr>\n",
              "    <tr>\n",
              "      <th>3</th>\n",
              "      <td>3</td>\n",
              "      <td>0</td>\n",
              "      <td>79.0</td>\n",
              "      <td>1</td>\n",
              "      <td>0</td>\n",
              "      <td>1</td>\n",
              "      <td>Self-employed</td>\n",
              "      <td>0</td>\n",
              "      <td>174.12</td>\n",
              "      <td>24.0</td>\n",
              "      <td>never smoked</td>\n",
              "      <td>1</td>\n",
              "    </tr>\n",
              "    <tr>\n",
              "      <th>4</th>\n",
              "      <td>4</td>\n",
              "      <td>1</td>\n",
              "      <td>81.0</td>\n",
              "      <td>0</td>\n",
              "      <td>0</td>\n",
              "      <td>1</td>\n",
              "      <td>Private</td>\n",
              "      <td>1</td>\n",
              "      <td>186.21</td>\n",
              "      <td>29.0</td>\n",
              "      <td>formerly smoked</td>\n",
              "      <td>1</td>\n",
              "    </tr>\n",
              "  </tbody>\n",
              "</table>\n",
              "</div>\n",
              "      <button class=\"colab-df-convert\" onclick=\"convertToInteractive('df-26e7649e-5789-476b-9268-b43ba1d9ca10')\"\n",
              "              title=\"Convert this dataframe to an interactive table.\"\n",
              "              style=\"display:none;\">\n",
              "        \n",
              "  <svg xmlns=\"http://www.w3.org/2000/svg\" height=\"24px\"viewBox=\"0 0 24 24\"\n",
              "       width=\"24px\">\n",
              "    <path d=\"M0 0h24v24H0V0z\" fill=\"none\"/>\n",
              "    <path d=\"M18.56 5.44l.94 2.06.94-2.06 2.06-.94-2.06-.94-.94-2.06-.94 2.06-2.06.94zm-11 1L8.5 8.5l.94-2.06 2.06-.94-2.06-.94L8.5 2.5l-.94 2.06-2.06.94zm10 10l.94 2.06.94-2.06 2.06-.94-2.06-.94-.94-2.06-.94 2.06-2.06.94z\"/><path d=\"M17.41 7.96l-1.37-1.37c-.4-.4-.92-.59-1.43-.59-.52 0-1.04.2-1.43.59L10.3 9.45l-7.72 7.72c-.78.78-.78 2.05 0 2.83L4 21.41c.39.39.9.59 1.41.59.51 0 1.02-.2 1.41-.59l7.78-7.78 2.81-2.81c.8-.78.8-2.07 0-2.86zM5.41 20L4 18.59l7.72-7.72 1.47 1.35L5.41 20z\"/>\n",
              "  </svg>\n",
              "      </button>\n",
              "      \n",
              "  <style>\n",
              "    .colab-df-container {\n",
              "      display:flex;\n",
              "      flex-wrap:wrap;\n",
              "      gap: 12px;\n",
              "    }\n",
              "\n",
              "    .colab-df-convert {\n",
              "      background-color: #E8F0FE;\n",
              "      border: none;\n",
              "      border-radius: 50%;\n",
              "      cursor: pointer;\n",
              "      display: none;\n",
              "      fill: #1967D2;\n",
              "      height: 32px;\n",
              "      padding: 0 0 0 0;\n",
              "      width: 32px;\n",
              "    }\n",
              "\n",
              "    .colab-df-convert:hover {\n",
              "      background-color: #E2EBFA;\n",
              "      box-shadow: 0px 1px 2px rgba(60, 64, 67, 0.3), 0px 1px 3px 1px rgba(60, 64, 67, 0.15);\n",
              "      fill: #174EA6;\n",
              "    }\n",
              "\n",
              "    [theme=dark] .colab-df-convert {\n",
              "      background-color: #3B4455;\n",
              "      fill: #D2E3FC;\n",
              "    }\n",
              "\n",
              "    [theme=dark] .colab-df-convert:hover {\n",
              "      background-color: #434B5C;\n",
              "      box-shadow: 0px 1px 3px 1px rgba(0, 0, 0, 0.15);\n",
              "      filter: drop-shadow(0px 1px 2px rgba(0, 0, 0, 0.3));\n",
              "      fill: #FFFFFF;\n",
              "    }\n",
              "  </style>\n",
              "\n",
              "      <script>\n",
              "        const buttonEl =\n",
              "          document.querySelector('#df-26e7649e-5789-476b-9268-b43ba1d9ca10 button.colab-df-convert');\n",
              "        buttonEl.style.display =\n",
              "          google.colab.kernel.accessAllowed ? 'block' : 'none';\n",
              "\n",
              "        async function convertToInteractive(key) {\n",
              "          const element = document.querySelector('#df-26e7649e-5789-476b-9268-b43ba1d9ca10');\n",
              "          const dataTable =\n",
              "            await google.colab.kernel.invokeFunction('convertToInteractive',\n",
              "                                                     [key], {});\n",
              "          if (!dataTable) return;\n",
              "\n",
              "          const docLinkHtml = 'Like what you see? Visit the ' +\n",
              "            '<a target=\"_blank\" href=https://colab.research.google.com/notebooks/data_table.ipynb>data table notebook</a>'\n",
              "            + ' to learn more about interactive tables.';\n",
              "          element.innerHTML = '';\n",
              "          dataTable['output_type'] = 'display_data';\n",
              "          await google.colab.output.renderOutput(dataTable, element);\n",
              "          const docLink = document.createElement('div');\n",
              "          docLink.innerHTML = docLinkHtml;\n",
              "          element.appendChild(docLink);\n",
              "        }\n",
              "      </script>\n",
              "    </div>\n",
              "  </div>\n",
              "  "
            ]
          },
          "metadata": {},
          "execution_count": 37
        }
      ]
    },
    {
      "cell_type": "code",
      "source": [
        "#Volver dummies las variables categoricas.\n",
        "df=pd.read_sql(\"SELECT work_type, smoking_status FROM stroke\",conn)\n",
        "df_dummies=pd.get_dummies(df)"
      ],
      "metadata": {
        "id": "zObALubBs91n"
      },
      "execution_count": 40,
      "outputs": []
    },
    {
      "cell_type": "code",
      "source": [
        "dfbi=pd.read_sql(\"SELECT gender,\thypertension,\theart_disease, Residence_type,\tever_married FROM stroke\",conn)\n",
        "pre=pd.concat([pd.DataFrame(dfbi), pd.DataFrame(df_dummies)], axis = 1)"
      ],
      "metadata": {
        "id": "bd1326r5vcji"
      },
      "execution_count": 41,
      "outputs": []
    },
    {
      "cell_type": "code",
      "source": [
        "pre.head()"
      ],
      "metadata": {
        "colab": {
          "base_uri": "https://localhost:8080/",
          "height": 287
        },
        "id": "B76gs5w6yMUW",
        "outputId": "d3c7b2b5-b0c6-4f23-dea8-0cd50f1f42d2"
      },
      "execution_count": 42,
      "outputs": [
        {
          "output_type": "execute_result",
          "data": {
            "text/plain": [
              "   gender  hypertension  heart_disease  Residence_type  ever_married  \\\n",
              "0       1             0              1               1             1   \n",
              "1       1             0              1               0             1   \n",
              "2       0             0              0               1             1   \n",
              "3       0             1              0               0             1   \n",
              "4       1             0              0               1             1   \n",
              "\n",
              "   work_type_Govt_job  work_type_Private  work_type_Self-employed  \\\n",
              "0                   0                  1                        0   \n",
              "1                   0                  1                        0   \n",
              "2                   0                  1                        0   \n",
              "3                   0                  0                        1   \n",
              "4                   0                  1                        0   \n",
              "\n",
              "   work_type_children  smoking_status_Unknown  smoking_status_formerly smoked  \\\n",
              "0                   0                       0                               1   \n",
              "1                   0                       0                               0   \n",
              "2                   0                       0                               0   \n",
              "3                   0                       0                               0   \n",
              "4                   0                       0                               1   \n",
              "\n",
              "   smoking_status_never smoked  smoking_status_smokes  \n",
              "0                            0                      0  \n",
              "1                            1                      0  \n",
              "2                            0                      1  \n",
              "3                            1                      0  \n",
              "4                            0                      0  "
            ],
            "text/html": [
              "\n",
              "  <div id=\"df-4e57cb09-b945-4b36-a376-6682540848ed\">\n",
              "    <div class=\"colab-df-container\">\n",
              "      <div>\n",
              "<style scoped>\n",
              "    .dataframe tbody tr th:only-of-type {\n",
              "        vertical-align: middle;\n",
              "    }\n",
              "\n",
              "    .dataframe tbody tr th {\n",
              "        vertical-align: top;\n",
              "    }\n",
              "\n",
              "    .dataframe thead th {\n",
              "        text-align: right;\n",
              "    }\n",
              "</style>\n",
              "<table border=\"1\" class=\"dataframe\">\n",
              "  <thead>\n",
              "    <tr style=\"text-align: right;\">\n",
              "      <th></th>\n",
              "      <th>gender</th>\n",
              "      <th>hypertension</th>\n",
              "      <th>heart_disease</th>\n",
              "      <th>Residence_type</th>\n",
              "      <th>ever_married</th>\n",
              "      <th>work_type_Govt_job</th>\n",
              "      <th>work_type_Private</th>\n",
              "      <th>work_type_Self-employed</th>\n",
              "      <th>work_type_children</th>\n",
              "      <th>smoking_status_Unknown</th>\n",
              "      <th>smoking_status_formerly smoked</th>\n",
              "      <th>smoking_status_never smoked</th>\n",
              "      <th>smoking_status_smokes</th>\n",
              "    </tr>\n",
              "  </thead>\n",
              "  <tbody>\n",
              "    <tr>\n",
              "      <th>0</th>\n",
              "      <td>1</td>\n",
              "      <td>0</td>\n",
              "      <td>1</td>\n",
              "      <td>1</td>\n",
              "      <td>1</td>\n",
              "      <td>0</td>\n",
              "      <td>1</td>\n",
              "      <td>0</td>\n",
              "      <td>0</td>\n",
              "      <td>0</td>\n",
              "      <td>1</td>\n",
              "      <td>0</td>\n",
              "      <td>0</td>\n",
              "    </tr>\n",
              "    <tr>\n",
              "      <th>1</th>\n",
              "      <td>1</td>\n",
              "      <td>0</td>\n",
              "      <td>1</td>\n",
              "      <td>0</td>\n",
              "      <td>1</td>\n",
              "      <td>0</td>\n",
              "      <td>1</td>\n",
              "      <td>0</td>\n",
              "      <td>0</td>\n",
              "      <td>0</td>\n",
              "      <td>0</td>\n",
              "      <td>1</td>\n",
              "      <td>0</td>\n",
              "    </tr>\n",
              "    <tr>\n",
              "      <th>2</th>\n",
              "      <td>0</td>\n",
              "      <td>0</td>\n",
              "      <td>0</td>\n",
              "      <td>1</td>\n",
              "      <td>1</td>\n",
              "      <td>0</td>\n",
              "      <td>1</td>\n",
              "      <td>0</td>\n",
              "      <td>0</td>\n",
              "      <td>0</td>\n",
              "      <td>0</td>\n",
              "      <td>0</td>\n",
              "      <td>1</td>\n",
              "    </tr>\n",
              "    <tr>\n",
              "      <th>3</th>\n",
              "      <td>0</td>\n",
              "      <td>1</td>\n",
              "      <td>0</td>\n",
              "      <td>0</td>\n",
              "      <td>1</td>\n",
              "      <td>0</td>\n",
              "      <td>0</td>\n",
              "      <td>1</td>\n",
              "      <td>0</td>\n",
              "      <td>0</td>\n",
              "      <td>0</td>\n",
              "      <td>1</td>\n",
              "      <td>0</td>\n",
              "    </tr>\n",
              "    <tr>\n",
              "      <th>4</th>\n",
              "      <td>1</td>\n",
              "      <td>0</td>\n",
              "      <td>0</td>\n",
              "      <td>1</td>\n",
              "      <td>1</td>\n",
              "      <td>0</td>\n",
              "      <td>1</td>\n",
              "      <td>0</td>\n",
              "      <td>0</td>\n",
              "      <td>0</td>\n",
              "      <td>1</td>\n",
              "      <td>0</td>\n",
              "      <td>0</td>\n",
              "    </tr>\n",
              "  </tbody>\n",
              "</table>\n",
              "</div>\n",
              "      <button class=\"colab-df-convert\" onclick=\"convertToInteractive('df-4e57cb09-b945-4b36-a376-6682540848ed')\"\n",
              "              title=\"Convert this dataframe to an interactive table.\"\n",
              "              style=\"display:none;\">\n",
              "        \n",
              "  <svg xmlns=\"http://www.w3.org/2000/svg\" height=\"24px\"viewBox=\"0 0 24 24\"\n",
              "       width=\"24px\">\n",
              "    <path d=\"M0 0h24v24H0V0z\" fill=\"none\"/>\n",
              "    <path d=\"M18.56 5.44l.94 2.06.94-2.06 2.06-.94-2.06-.94-.94-2.06-.94 2.06-2.06.94zm-11 1L8.5 8.5l.94-2.06 2.06-.94-2.06-.94L8.5 2.5l-.94 2.06-2.06.94zm10 10l.94 2.06.94-2.06 2.06-.94-2.06-.94-.94-2.06-.94 2.06-2.06.94z\"/><path d=\"M17.41 7.96l-1.37-1.37c-.4-.4-.92-.59-1.43-.59-.52 0-1.04.2-1.43.59L10.3 9.45l-7.72 7.72c-.78.78-.78 2.05 0 2.83L4 21.41c.39.39.9.59 1.41.59.51 0 1.02-.2 1.41-.59l7.78-7.78 2.81-2.81c.8-.78.8-2.07 0-2.86zM5.41 20L4 18.59l7.72-7.72 1.47 1.35L5.41 20z\"/>\n",
              "  </svg>\n",
              "      </button>\n",
              "      \n",
              "  <style>\n",
              "    .colab-df-container {\n",
              "      display:flex;\n",
              "      flex-wrap:wrap;\n",
              "      gap: 12px;\n",
              "    }\n",
              "\n",
              "    .colab-df-convert {\n",
              "      background-color: #E8F0FE;\n",
              "      border: none;\n",
              "      border-radius: 50%;\n",
              "      cursor: pointer;\n",
              "      display: none;\n",
              "      fill: #1967D2;\n",
              "      height: 32px;\n",
              "      padding: 0 0 0 0;\n",
              "      width: 32px;\n",
              "    }\n",
              "\n",
              "    .colab-df-convert:hover {\n",
              "      background-color: #E2EBFA;\n",
              "      box-shadow: 0px 1px 2px rgba(60, 64, 67, 0.3), 0px 1px 3px 1px rgba(60, 64, 67, 0.15);\n",
              "      fill: #174EA6;\n",
              "    }\n",
              "\n",
              "    [theme=dark] .colab-df-convert {\n",
              "      background-color: #3B4455;\n",
              "      fill: #D2E3FC;\n",
              "    }\n",
              "\n",
              "    [theme=dark] .colab-df-convert:hover {\n",
              "      background-color: #434B5C;\n",
              "      box-shadow: 0px 1px 3px 1px rgba(0, 0, 0, 0.15);\n",
              "      filter: drop-shadow(0px 1px 2px rgba(0, 0, 0, 0.3));\n",
              "      fill: #FFFFFF;\n",
              "    }\n",
              "  </style>\n",
              "\n",
              "      <script>\n",
              "        const buttonEl =\n",
              "          document.querySelector('#df-4e57cb09-b945-4b36-a376-6682540848ed button.colab-df-convert');\n",
              "        buttonEl.style.display =\n",
              "          google.colab.kernel.accessAllowed ? 'block' : 'none';\n",
              "\n",
              "        async function convertToInteractive(key) {\n",
              "          const element = document.querySelector('#df-4e57cb09-b945-4b36-a376-6682540848ed');\n",
              "          const dataTable =\n",
              "            await google.colab.kernel.invokeFunction('convertToInteractive',\n",
              "                                                     [key], {});\n",
              "          if (!dataTable) return;\n",
              "\n",
              "          const docLinkHtml = 'Like what you see? Visit the ' +\n",
              "            '<a target=\"_blank\" href=https://colab.research.google.com/notebooks/data_table.ipynb>data table notebook</a>'\n",
              "            + ' to learn more about interactive tables.';\n",
              "          element.innerHTML = '';\n",
              "          dataTable['output_type'] = 'display_data';\n",
              "          await google.colab.output.renderOutput(dataTable, element);\n",
              "          const docLink = document.createElement('div');\n",
              "          docLink.innerHTML = docLinkHtml;\n",
              "          element.appendChild(docLink);\n",
              "        }\n",
              "      </script>\n",
              "    </div>\n",
              "  </div>\n",
              "  "
            ]
          },
          "metadata": {},
          "execution_count": 42
        }
      ]
    },
    {
      "cell_type": "code",
      "source": [
        "#Estandarizamos los datos númericos y creamos la tabla con los features necesarios.\n",
        "#Variables númericas.\n",
        "df2=pd.read_sql(\"SELECT age, avg_glucose_level,\tbmi FROM stroke\",conn)\n",
        "#Escalando las variables age, avg_glucose_level y bmi entre un rango con MinMaxScaler.\n",
        "min_max_scaler = preprocessing.MinMaxScaler()\n",
        "df2sc = min_max_scaler.fit_transform(df2)\n",
        "#Restablecemos el nombre de las columnas.\n",
        "df2sc= pd.DataFrame(df2sc)\n",
        "df2sc.columns=df2.columns"
      ],
      "metadata": {
        "id": "mzQYRAR0uau8"
      },
      "execution_count": 43,
      "outputs": []
    },
    {
      "cell_type": "code",
      "source": [
        "features=pd.concat([pd.DataFrame(df2sc), pd.DataFrame(pre)], axis = 1)\n",
        "features.head()"
      ],
      "metadata": {
        "colab": {
          "base_uri": "https://localhost:8080/",
          "height": 287
        },
        "id": "ok6mnkB8vjOT",
        "outputId": "7c26906a-5c2a-44bb-d699-c41722746892"
      },
      "execution_count": 44,
      "outputs": [
        {
          "output_type": "execute_result",
          "data": {
            "text/plain": [
              "        age  avg_glucose_level       bmi  gender  hypertension  heart_disease  \\\n",
              "0  0.816895           0.801265  0.647564       1             0              1   \n",
              "1  0.975586           0.234512  0.530086       1             0              1   \n",
              "2  0.597168           0.536008  0.584527       0             0              0   \n",
              "3  0.963379           0.549349  0.286533       0             1              0   \n",
              "4  0.987793           0.605161  0.429799       1             0              0   \n",
              "\n",
              "   Residence_type  ever_married  work_type_Govt_job  work_type_Private  \\\n",
              "0               1             1                   0                  1   \n",
              "1               0             1                   0                  1   \n",
              "2               1             1                   0                  1   \n",
              "3               0             1                   0                  0   \n",
              "4               1             1                   0                  1   \n",
              "\n",
              "   work_type_Self-employed  work_type_children  smoking_status_Unknown  \\\n",
              "0                        0                   0                       0   \n",
              "1                        0                   0                       0   \n",
              "2                        0                   0                       0   \n",
              "3                        1                   0                       0   \n",
              "4                        0                   0                       0   \n",
              "\n",
              "   smoking_status_formerly smoked  smoking_status_never smoked  \\\n",
              "0                               1                            0   \n",
              "1                               0                            1   \n",
              "2                               0                            0   \n",
              "3                               0                            1   \n",
              "4                               1                            0   \n",
              "\n",
              "   smoking_status_smokes  \n",
              "0                      0  \n",
              "1                      0  \n",
              "2                      1  \n",
              "3                      0  \n",
              "4                      0  "
            ],
            "text/html": [
              "\n",
              "  <div id=\"df-31d70fe6-5260-4d10-85e4-a7186247d65c\">\n",
              "    <div class=\"colab-df-container\">\n",
              "      <div>\n",
              "<style scoped>\n",
              "    .dataframe tbody tr th:only-of-type {\n",
              "        vertical-align: middle;\n",
              "    }\n",
              "\n",
              "    .dataframe tbody tr th {\n",
              "        vertical-align: top;\n",
              "    }\n",
              "\n",
              "    .dataframe thead th {\n",
              "        text-align: right;\n",
              "    }\n",
              "</style>\n",
              "<table border=\"1\" class=\"dataframe\">\n",
              "  <thead>\n",
              "    <tr style=\"text-align: right;\">\n",
              "      <th></th>\n",
              "      <th>age</th>\n",
              "      <th>avg_glucose_level</th>\n",
              "      <th>bmi</th>\n",
              "      <th>gender</th>\n",
              "      <th>hypertension</th>\n",
              "      <th>heart_disease</th>\n",
              "      <th>Residence_type</th>\n",
              "      <th>ever_married</th>\n",
              "      <th>work_type_Govt_job</th>\n",
              "      <th>work_type_Private</th>\n",
              "      <th>work_type_Self-employed</th>\n",
              "      <th>work_type_children</th>\n",
              "      <th>smoking_status_Unknown</th>\n",
              "      <th>smoking_status_formerly smoked</th>\n",
              "      <th>smoking_status_never smoked</th>\n",
              "      <th>smoking_status_smokes</th>\n",
              "    </tr>\n",
              "  </thead>\n",
              "  <tbody>\n",
              "    <tr>\n",
              "      <th>0</th>\n",
              "      <td>0.816895</td>\n",
              "      <td>0.801265</td>\n",
              "      <td>0.647564</td>\n",
              "      <td>1</td>\n",
              "      <td>0</td>\n",
              "      <td>1</td>\n",
              "      <td>1</td>\n",
              "      <td>1</td>\n",
              "      <td>0</td>\n",
              "      <td>1</td>\n",
              "      <td>0</td>\n",
              "      <td>0</td>\n",
              "      <td>0</td>\n",
              "      <td>1</td>\n",
              "      <td>0</td>\n",
              "      <td>0</td>\n",
              "    </tr>\n",
              "    <tr>\n",
              "      <th>1</th>\n",
              "      <td>0.975586</td>\n",
              "      <td>0.234512</td>\n",
              "      <td>0.530086</td>\n",
              "      <td>1</td>\n",
              "      <td>0</td>\n",
              "      <td>1</td>\n",
              "      <td>0</td>\n",
              "      <td>1</td>\n",
              "      <td>0</td>\n",
              "      <td>1</td>\n",
              "      <td>0</td>\n",
              "      <td>0</td>\n",
              "      <td>0</td>\n",
              "      <td>0</td>\n",
              "      <td>1</td>\n",
              "      <td>0</td>\n",
              "    </tr>\n",
              "    <tr>\n",
              "      <th>2</th>\n",
              "      <td>0.597168</td>\n",
              "      <td>0.536008</td>\n",
              "      <td>0.584527</td>\n",
              "      <td>0</td>\n",
              "      <td>0</td>\n",
              "      <td>0</td>\n",
              "      <td>1</td>\n",
              "      <td>1</td>\n",
              "      <td>0</td>\n",
              "      <td>1</td>\n",
              "      <td>0</td>\n",
              "      <td>0</td>\n",
              "      <td>0</td>\n",
              "      <td>0</td>\n",
              "      <td>0</td>\n",
              "      <td>1</td>\n",
              "    </tr>\n",
              "    <tr>\n",
              "      <th>3</th>\n",
              "      <td>0.963379</td>\n",
              "      <td>0.549349</td>\n",
              "      <td>0.286533</td>\n",
              "      <td>0</td>\n",
              "      <td>1</td>\n",
              "      <td>0</td>\n",
              "      <td>0</td>\n",
              "      <td>1</td>\n",
              "      <td>0</td>\n",
              "      <td>0</td>\n",
              "      <td>1</td>\n",
              "      <td>0</td>\n",
              "      <td>0</td>\n",
              "      <td>0</td>\n",
              "      <td>1</td>\n",
              "      <td>0</td>\n",
              "    </tr>\n",
              "    <tr>\n",
              "      <th>4</th>\n",
              "      <td>0.987793</td>\n",
              "      <td>0.605161</td>\n",
              "      <td>0.429799</td>\n",
              "      <td>1</td>\n",
              "      <td>0</td>\n",
              "      <td>0</td>\n",
              "      <td>1</td>\n",
              "      <td>1</td>\n",
              "      <td>0</td>\n",
              "      <td>1</td>\n",
              "      <td>0</td>\n",
              "      <td>0</td>\n",
              "      <td>0</td>\n",
              "      <td>1</td>\n",
              "      <td>0</td>\n",
              "      <td>0</td>\n",
              "    </tr>\n",
              "  </tbody>\n",
              "</table>\n",
              "</div>\n",
              "      <button class=\"colab-df-convert\" onclick=\"convertToInteractive('df-31d70fe6-5260-4d10-85e4-a7186247d65c')\"\n",
              "              title=\"Convert this dataframe to an interactive table.\"\n",
              "              style=\"display:none;\">\n",
              "        \n",
              "  <svg xmlns=\"http://www.w3.org/2000/svg\" height=\"24px\"viewBox=\"0 0 24 24\"\n",
              "       width=\"24px\">\n",
              "    <path d=\"M0 0h24v24H0V0z\" fill=\"none\"/>\n",
              "    <path d=\"M18.56 5.44l.94 2.06.94-2.06 2.06-.94-2.06-.94-.94-2.06-.94 2.06-2.06.94zm-11 1L8.5 8.5l.94-2.06 2.06-.94-2.06-.94L8.5 2.5l-.94 2.06-2.06.94zm10 10l.94 2.06.94-2.06 2.06-.94-2.06-.94-.94-2.06-.94 2.06-2.06.94z\"/><path d=\"M17.41 7.96l-1.37-1.37c-.4-.4-.92-.59-1.43-.59-.52 0-1.04.2-1.43.59L10.3 9.45l-7.72 7.72c-.78.78-.78 2.05 0 2.83L4 21.41c.39.39.9.59 1.41.59.51 0 1.02-.2 1.41-.59l7.78-7.78 2.81-2.81c.8-.78.8-2.07 0-2.86zM5.41 20L4 18.59l7.72-7.72 1.47 1.35L5.41 20z\"/>\n",
              "  </svg>\n",
              "      </button>\n",
              "      \n",
              "  <style>\n",
              "    .colab-df-container {\n",
              "      display:flex;\n",
              "      flex-wrap:wrap;\n",
              "      gap: 12px;\n",
              "    }\n",
              "\n",
              "    .colab-df-convert {\n",
              "      background-color: #E8F0FE;\n",
              "      border: none;\n",
              "      border-radius: 50%;\n",
              "      cursor: pointer;\n",
              "      display: none;\n",
              "      fill: #1967D2;\n",
              "      height: 32px;\n",
              "      padding: 0 0 0 0;\n",
              "      width: 32px;\n",
              "    }\n",
              "\n",
              "    .colab-df-convert:hover {\n",
              "      background-color: #E2EBFA;\n",
              "      box-shadow: 0px 1px 2px rgba(60, 64, 67, 0.3), 0px 1px 3px 1px rgba(60, 64, 67, 0.15);\n",
              "      fill: #174EA6;\n",
              "    }\n",
              "\n",
              "    [theme=dark] .colab-df-convert {\n",
              "      background-color: #3B4455;\n",
              "      fill: #D2E3FC;\n",
              "    }\n",
              "\n",
              "    [theme=dark] .colab-df-convert:hover {\n",
              "      background-color: #434B5C;\n",
              "      box-shadow: 0px 1px 3px 1px rgba(0, 0, 0, 0.15);\n",
              "      filter: drop-shadow(0px 1px 2px rgba(0, 0, 0, 0.3));\n",
              "      fill: #FFFFFF;\n",
              "    }\n",
              "  </style>\n",
              "\n",
              "      <script>\n",
              "        const buttonEl =\n",
              "          document.querySelector('#df-31d70fe6-5260-4d10-85e4-a7186247d65c button.colab-df-convert');\n",
              "        buttonEl.style.display =\n",
              "          google.colab.kernel.accessAllowed ? 'block' : 'none';\n",
              "\n",
              "        async function convertToInteractive(key) {\n",
              "          const element = document.querySelector('#df-31d70fe6-5260-4d10-85e4-a7186247d65c');\n",
              "          const dataTable =\n",
              "            await google.colab.kernel.invokeFunction('convertToInteractive',\n",
              "                                                     [key], {});\n",
              "          if (!dataTable) return;\n",
              "\n",
              "          const docLinkHtml = 'Like what you see? Visit the ' +\n",
              "            '<a target=\"_blank\" href=https://colab.research.google.com/notebooks/data_table.ipynb>data table notebook</a>'\n",
              "            + ' to learn more about interactive tables.';\n",
              "          element.innerHTML = '';\n",
              "          dataTable['output_type'] = 'display_data';\n",
              "          await google.colab.output.renderOutput(dataTable, element);\n",
              "          const docLink = document.createElement('div');\n",
              "          docLink.innerHTML = docLinkHtml;\n",
              "          element.appendChild(docLink);\n",
              "        }\n",
              "      </script>\n",
              "    </div>\n",
              "  </div>\n",
              "  "
            ]
          },
          "metadata": {},
          "execution_count": 44
        }
      ]
    },
    {
      "cell_type": "code",
      "source": [
        "#Creación de los conjuntos de X y y para la red neuronal.\n",
        "X=features.copy()\n",
        "y=pd.read_sql(\"SELECT stroke FROM stroke\",conn)\n"
      ],
      "metadata": {
        "id": "pLskogkzsxou"
      },
      "execution_count": 45,
      "outputs": []
    },
    {
      "cell_type": "code",
      "source": [
        "#Separación de lso conjuntos de entrenamiento y testeo. \n",
        "X_train, X_test, y_train, y_test = train_test_split(X, y, test_size=0.3) #80% de los datos para entrenamiento y 20% de los datos para testeo.\n"
      ],
      "metadata": {
        "id": "dOYfEIvVzV4o"
      },
      "execution_count": 46,
      "outputs": []
    },
    {
      "cell_type": "code",
      "source": [
        "X_train.shape"
      ],
      "metadata": {
        "colab": {
          "base_uri": "https://localhost:8080/"
        },
        "id": "qH-LB4FUhYDy",
        "outputId": "78528641-ddd7-4918-bed7-5a451fb60f3c"
      },
      "execution_count": 47,
      "outputs": [
        {
          "output_type": "execute_result",
          "data": {
            "text/plain": [
              "(3486, 16)"
            ]
          },
          "metadata": {},
          "execution_count": 47
        }
      ]
    },
    {
      "cell_type": "markdown",
      "source": [
        "Tecnica de oversampling con SMOTE para balancear clases (En este caso la clase positiva a ACV calificada con 1 en la variable 'stroke') Esto solo se aplica a las muestras de entrenamiento para evitar tener datos sinteticos a la hora de testear el modelo.\n",
        "\n"
      ],
      "metadata": {
        "id": "Ryo0wr1XyfQE"
      }
    },
    {
      "cell_type": "code",
      "source": [
        "sm=SMOTE()\n",
        "X_tsm,y_tsm=sm.fit_resample(X_train,y_train)\n",
        "print(f'''Cambio de X antes de SMOTE: {X_train.shape} \n",
        "      Cambio de X despues de SMOTE: {X_tsm.shape} ''')\n",
        "print('balance negativo y positivo de clases (%) ')\n",
        "y_tsm.value_counts(normalize=True)*100"
      ],
      "metadata": {
        "colab": {
          "base_uri": "https://localhost:8080/"
        },
        "id": "htopF6Dtye3z",
        "outputId": "1c836ee7-3b7b-473e-bcc4-c48e93625884"
      },
      "execution_count": 48,
      "outputs": [
        {
          "output_type": "stream",
          "name": "stdout",
          "text": [
            "Cambio de X antes de SMOTE: (3486, 16) \n",
            "      Cambio de X despues de SMOTE: (6618, 16) \n",
            "balance negativo y positivo de clases (%) \n"
          ]
        },
        {
          "output_type": "execute_result",
          "data": {
            "text/plain": [
              "stroke\n",
              "0         50.0\n",
              "1         50.0\n",
              "dtype: float64"
            ]
          },
          "metadata": {},
          "execution_count": 48
        }
      ]
    },
    {
      "cell_type": "code",
      "source": [
        "plt.hist(y_tsm)\n",
        "plt.title('Datos balanceados')"
      ],
      "metadata": {
        "colab": {
          "base_uri": "https://localhost:8080/",
          "height": 469
        },
        "id": "62KByZG9mRwR",
        "outputId": "753d63f8-785d-4b00-a6bd-50746b556adc"
      },
      "execution_count": 49,
      "outputs": [
        {
          "output_type": "execute_result",
          "data": {
            "text/plain": [
              "Text(0.5, 1.0, 'Datos balanceados')"
            ]
          },
          "metadata": {},
          "execution_count": 49
        },
        {
          "output_type": "display_data",
          "data": {
            "text/plain": [
              "<Figure size 640x480 with 1 Axes>"
            ],
            "image/png": "[encoded data removed]"
          },
          "metadata": {}
        }
      ]
    },
    {
      "cell_type": "code",
      "source": [
        "#Volvemos las particiones en un array.\n",
        "X_tsm=X_tsm.values\n",
        "X_test=X_test.values\n",
        "y_tsm=y_tsm.values\n",
        "y_test=y_test.values"
      ],
      "metadata": {
        "id": "GL0q-vtgWHzL"
      },
      "execution_count": 50,
      "outputs": []
    },
    {
      "cell_type": "code",
      "source": [
        "from tensorflow.python.ops.gen_nn_ops import relu\n",
        "#Arquitectura de la red neuronal.\n",
        "capaEntrada= tf.keras.layers.Dense(units=20, input_shape=[16], activation='relu')\n",
        "capaOculta1=tf.keras.layers.Dense(units=15,activation='relu')\n",
        "capaOculta2=tf.keras.layers.Dense(units=8,activation='relu')\n",
        "capaSalida=tf.keras.layers.Dense(units=1,activation='sigmoid')"
      ],
      "metadata": {
        "id": "tm6uOKt0z4ky"
      },
      "execution_count": 51,
      "outputs": []
    },
    {
      "cell_type": "code",
      "source": [
        "#Determinación del modelo.\n",
        "modelo=tf.keras.Sequential((capaEntrada, capaOculta1,capaOculta2, capaSalida))"
      ],
      "metadata": {
        "id": "vzFuAP7dEeCd"
      },
      "execution_count": 52,
      "outputs": []
    },
    {
      "cell_type": "code",
      "source": [
        "#Compilación del modelo.\n",
        "modelo.compile(optimizer=tf.keras.optimizers.Adam(0.05),\n",
        "               loss='binary_crossentropy',metrics=['binary_accuracy','Recall']) # La función Adam toma la tasa de aprendizaje y de manera eficiente ira ajustando los pesos y el sesgo para que el aprendizaje sea lo más correcto posible, \n",
        "#para la función de perdida usamos 'binary_crossentropy' la cual rastrea el etiquetado incorrecto de la clase por parte de un modelo, lo que penaliza el modelo si se producen desviaciones en la probabilidad de clasificar las etiquetas.  \n",
        "#'binary_accuracy' calcula la frecuencia con la que se ha acertado una predicción para ACV, es muy utilizada para problemas de clasificación binaria.\n",
        "#'recall' calcula la tasa de identificación de pacientes que pueden presentar un ACV. Para el problema es más importante los positivos a presentar un ACV y \n",
        "#los falsos negativos pues puede significar el desconocimiento de la patologia para un paciente."
      ],
      "metadata": {
        "id": "N-o5WOxtFCpM"
      },
      "execution_count": 53,
      "outputs": []
    },
    {
      "cell_type": "code",
      "source": [
        "#Entrenamos la red neuronal.\n",
        "print('Inicio de entrenamiento...')\n",
        "resultados= modelo.fit(X_tsm,y_tsm, batch_size=700,epochs=150,validation_data=(X_test,y_test)) #Se entra el modelo con los features y los target, \n",
        "#con la variable epochs le indicamos cuantas veces entrenar la red, y con la variable batch_size le indicamos la porción de datos a entrenar en cada epoca.\n",
        "\n",
        "print('¡Modelo entrenado! ')"
      ],
      "metadata": {
        "colab": {
          "base_uri": "https://localhost:8080/"
        },
        "id": "Wz2xu5puGjY3",
        "outputId": "cab37cff-46c1-41b5-8ecd-6bb0cf20feca"
      },
      "execution_count": 54,
      "outputs": [
        {
          "output_type": "stream",
          "name": "stdout",
          "text": [
            "Inicio de entrenamiento...\n",
            "Epoch 1/150\n",
            "10/10 [==============================] - 1s 29ms/step - loss: 0.6327 - binary_accuracy: 0.6269 - recall: 0.6875 - val_loss: 0.5280 - val_binary_accuracy: 0.6763 - val_recall: 0.8028\n",
            "Epoch 2/150\n",
            "10/10 [==============================] - 0s 8ms/step - loss: 0.4865 - binary_accuracy: 0.7693 - recall: 0.8432 - val_loss: 0.3573 - val_binary_accuracy: 0.7953 - val_recall: 0.7183\n",
            "Epoch 3/150\n",
            "10/10 [==============================] - 0s 7ms/step - loss: 0.4277 - binary_accuracy: 0.8092 - recall: 0.8755 - val_loss: 0.5224 - val_binary_accuracy: 0.7191 - val_recall: 0.8169\n",
            "Epoch 4/150\n",
            "10/10 [==============================] - 0s 6ms/step - loss: 0.4023 - binary_accuracy: 0.8208 - recall: 0.8855 - val_loss: 0.4868 - val_binary_accuracy: 0.7217 - val_recall: 0.7465\n",
            "Epoch 5/150\n",
            "10/10 [==============================] - 0s 9ms/step - loss: 0.3874 - binary_accuracy: 0.8274 - recall: 0.9024 - val_loss: 0.4462 - val_binary_accuracy: 0.7445 - val_recall: 0.6479\n",
            "Epoch 6/150\n",
            "10/10 [==============================] - 0s 7ms/step - loss: 0.3757 - binary_accuracy: 0.8373 - recall: 0.9045 - val_loss: 0.4376 - val_binary_accuracy: 0.7532 - val_recall: 0.6620\n",
            "Epoch 7/150\n",
            "10/10 [==============================] - 0s 7ms/step - loss: 0.3665 - binary_accuracy: 0.8389 - recall: 0.9042 - val_loss: 0.3835 - val_binary_accuracy: 0.7967 - val_recall: 0.5352\n",
            "Epoch 8/150\n",
            "10/10 [==============================] - 0s 8ms/step - loss: 0.3616 - binary_accuracy: 0.8415 - recall: 0.9096 - val_loss: 0.4236 - val_binary_accuracy: 0.7545 - val_recall: 0.5634\n",
            "Epoch 9/150\n",
            "10/10 [==============================] - 0s 9ms/step - loss: 0.3589 - binary_accuracy: 0.8469 - recall: 0.9223 - val_loss: 0.3748 - val_binary_accuracy: 0.7980 - val_recall: 0.5070\n",
            "Epoch 10/150\n",
            "10/10 [==============================] - 0s 6ms/step - loss: 0.3535 - binary_accuracy: 0.8518 - recall: 0.9208 - val_loss: 0.4720 - val_binary_accuracy: 0.7231 - val_recall: 0.6197\n",
            "Epoch 11/150\n",
            "10/10 [==============================] - 0s 8ms/step - loss: 0.3474 - binary_accuracy: 0.8540 - recall: 0.9175 - val_loss: 0.5385 - val_binary_accuracy: 0.7043 - val_recall: 0.6901\n",
            "Epoch 12/150\n",
            "10/10 [==============================] - 0s 8ms/step - loss: 0.3431 - binary_accuracy: 0.8554 - recall: 0.9284 - val_loss: 0.3568 - val_binary_accuracy: 0.8214 - val_recall: 0.3662\n",
            "Epoch 13/150\n",
            "10/10 [==============================] - 0s 6ms/step - loss: 0.3472 - binary_accuracy: 0.8527 - recall: 0.9124 - val_loss: 0.4826 - val_binary_accuracy: 0.7572 - val_recall: 0.5634\n",
            "Epoch 14/150\n",
            "10/10 [==============================] - 0s 6ms/step - loss: 0.3335 - binary_accuracy: 0.8607 - recall: 0.9269 - val_loss: 0.4852 - val_binary_accuracy: 0.7304 - val_recall: 0.5775\n",
            "Epoch 15/150\n",
            "10/10 [==============================] - 0s 6ms/step - loss: 0.3359 - binary_accuracy: 0.8613 - recall: 0.9214 - val_loss: 0.4478 - val_binary_accuracy: 0.7579 - val_recall: 0.5493\n",
            "Epoch 16/150\n",
            "10/10 [==============================] - 0s 6ms/step - loss: 0.3180 - binary_accuracy: 0.8673 - recall: 0.9202 - val_loss: 0.4420 - val_binary_accuracy: 0.7766 - val_recall: 0.5070\n",
            "Epoch 17/150\n",
            "10/10 [==============================] - 0s 8ms/step - loss: 0.3182 - binary_accuracy: 0.8655 - recall: 0.9232 - val_loss: 0.4365 - val_binary_accuracy: 0.7739 - val_recall: 0.4507\n",
            "Epoch 18/150\n",
            "10/10 [==============================] - 0s 7ms/step - loss: 0.3150 - binary_accuracy: 0.8675 - recall: 0.9217 - val_loss: 0.4307 - val_binary_accuracy: 0.7773 - val_recall: 0.4366\n",
            "Epoch 19/150\n",
            "10/10 [==============================] - 0s 6ms/step - loss: 0.3200 - binary_accuracy: 0.8645 - recall: 0.9133 - val_loss: 0.4881 - val_binary_accuracy: 0.7579 - val_recall: 0.5070\n",
            "Epoch 20/150\n",
            "10/10 [==============================] - 0s 6ms/step - loss: 0.3164 - binary_accuracy: 0.8648 - recall: 0.9278 - val_loss: 0.4605 - val_binary_accuracy: 0.7692 - val_recall: 0.4789\n",
            "Epoch 21/150\n",
            "10/10 [==============================] - 0s 7ms/step - loss: 0.3178 - binary_accuracy: 0.8648 - recall: 0.9172 - val_loss: 0.4115 - val_binary_accuracy: 0.7826 - val_recall: 0.4507\n",
            "Epoch 22/150\n",
            "10/10 [==============================] - 0s 7ms/step - loss: 0.3047 - binary_accuracy: 0.8699 - recall: 0.9272 - val_loss: 0.4530 - val_binary_accuracy: 0.7773 - val_recall: 0.4225\n",
            "Epoch 23/150\n",
            "10/10 [==============================] - 0s 8ms/step - loss: 0.2955 - binary_accuracy: 0.8787 - recall: 0.9305 - val_loss: 0.5035 - val_binary_accuracy: 0.7458 - val_recall: 0.4789\n",
            "Epoch 24/150\n",
            "10/10 [==============================] - 0s 6ms/step - loss: 0.2934 - binary_accuracy: 0.8784 - recall: 0.9332 - val_loss: 0.5634 - val_binary_accuracy: 0.7104 - val_recall: 0.5352\n",
            "Epoch 25/150\n",
            "10/10 [==============================] - 0s 6ms/step - loss: 0.2967 - binary_accuracy: 0.8725 - recall: 0.9266 - val_loss: 0.5949 - val_binary_accuracy: 0.6950 - val_recall: 0.5493\n",
            "Epoch 26/150\n",
            "10/10 [==============================] - 0s 9ms/step - loss: 0.3067 - binary_accuracy: 0.8663 - recall: 0.9317 - val_loss: 0.5239 - val_binary_accuracy: 0.7258 - val_recall: 0.4930\n",
            "Epoch 27/150\n",
            "10/10 [==============================] - 0s 8ms/step - loss: 0.3006 - binary_accuracy: 0.8722 - recall: 0.9320 - val_loss: 0.4445 - val_binary_accuracy: 0.7726 - val_recall: 0.4648\n",
            "Epoch 28/150\n",
            "10/10 [==============================] - 0s 7ms/step - loss: 0.2969 - binary_accuracy: 0.8772 - recall: 0.9341 - val_loss: 0.4588 - val_binary_accuracy: 0.7779 - val_recall: 0.4366\n",
            "Epoch 29/150\n",
            "10/10 [==============================] - 0s 6ms/step - loss: 0.2925 - binary_accuracy: 0.8762 - recall: 0.9308 - val_loss: 0.4477 - val_binary_accuracy: 0.7786 - val_recall: 0.3803\n",
            "Epoch 30/150\n",
            "10/10 [==============================] - 0s 6ms/step - loss: 0.2831 - binary_accuracy: 0.8844 - recall: 0.9332 - val_loss: 0.6099 - val_binary_accuracy: 0.7104 - val_recall: 0.5634\n",
            "Epoch 31/150\n",
            "10/10 [==============================] - 0s 8ms/step - loss: 0.2952 - binary_accuracy: 0.8741 - recall: 0.9302 - val_loss: 0.4946 - val_binary_accuracy: 0.7645 - val_recall: 0.4366\n",
            "Epoch 32/150\n",
            "10/10 [==============================] - 0s 7ms/step - loss: 0.2884 - binary_accuracy: 0.8826 - recall: 0.9371 - val_loss: 0.4822 - val_binary_accuracy: 0.7666 - val_recall: 0.4930\n",
            "Epoch 33/150\n",
            "10/10 [==============================] - 0s 8ms/step - loss: 0.2861 - binary_accuracy: 0.8806 - recall: 0.9402 - val_loss: 0.4936 - val_binary_accuracy: 0.7739 - val_recall: 0.4507\n",
            "Epoch 34/150\n",
            "10/10 [==============================] - 0s 7ms/step - loss: 0.2840 - binary_accuracy: 0.8796 - recall: 0.9414 - val_loss: 0.4156 - val_binary_accuracy: 0.8207 - val_recall: 0.3380\n",
            "Epoch 35/150\n",
            "10/10 [==============================] - 0s 7ms/step - loss: 0.2883 - binary_accuracy: 0.8762 - recall: 0.9229 - val_loss: 0.4835 - val_binary_accuracy: 0.7746 - val_recall: 0.4648\n",
            "Epoch 36/150\n",
            "10/10 [==============================] - 0s 6ms/step - loss: 0.2765 - binary_accuracy: 0.8861 - recall: 0.9435 - val_loss: 0.4586 - val_binary_accuracy: 0.7980 - val_recall: 0.3521\n",
            "Epoch 37/150\n",
            "10/10 [==============================] - 0s 6ms/step - loss: 0.2726 - binary_accuracy: 0.8889 - recall: 0.9323 - val_loss: 0.4990 - val_binary_accuracy: 0.7746 - val_recall: 0.4507\n",
            "Epoch 38/150\n",
            "10/10 [==============================] - 0s 8ms/step - loss: 0.2787 - binary_accuracy: 0.8826 - recall: 0.9411 - val_loss: 0.4803 - val_binary_accuracy: 0.7920 - val_recall: 0.4225\n",
            "Epoch 39/150\n",
            "10/10 [==============================] - 0s 6ms/step - loss: 0.2853 - binary_accuracy: 0.8811 - recall: 0.9299 - val_loss: 0.5319 - val_binary_accuracy: 0.7498 - val_recall: 0.4225\n",
            "Epoch 40/150\n",
            "10/10 [==============================] - 0s 8ms/step - loss: 0.2973 - binary_accuracy: 0.8744 - recall: 0.9414 - val_loss: 0.4389 - val_binary_accuracy: 0.7933 - val_recall: 0.3662\n",
            "Epoch 41/150\n",
            "10/10 [==============================] - 0s 6ms/step - loss: 0.2787 - binary_accuracy: 0.8852 - recall: 0.9341 - val_loss: 0.5332 - val_binary_accuracy: 0.7619 - val_recall: 0.4507\n",
            "Epoch 42/150\n",
            "10/10 [==============================] - 0s 8ms/step - loss: 0.2752 - binary_accuracy: 0.8871 - recall: 0.9396 - val_loss: 0.4568 - val_binary_accuracy: 0.7980 - val_recall: 0.4366\n",
            "Epoch 43/150\n",
            "10/10 [==============================] - 0s 7ms/step - loss: 0.2630 - binary_accuracy: 0.8954 - recall: 0.9532 - val_loss: 0.4465 - val_binary_accuracy: 0.8074 - val_recall: 0.3803\n",
            "Epoch 44/150\n",
            "10/10 [==============================] - 0s 9ms/step - loss: 0.2591 - binary_accuracy: 0.8918 - recall: 0.9408 - val_loss: 0.4573 - val_binary_accuracy: 0.7973 - val_recall: 0.3662\n",
            "Epoch 45/150\n",
            "10/10 [==============================] - 0s 7ms/step - loss: 0.2620 - binary_accuracy: 0.8945 - recall: 0.9459 - val_loss: 0.4931 - val_binary_accuracy: 0.7946 - val_recall: 0.4085\n",
            "Epoch 46/150\n",
            "10/10 [==============================] - 0s 6ms/step - loss: 0.2678 - binary_accuracy: 0.8929 - recall: 0.9423 - val_loss: 0.5149 - val_binary_accuracy: 0.7699 - val_recall: 0.3803\n",
            "Epoch 47/150\n",
            "10/10 [==============================] - 0s 6ms/step - loss: 0.2657 - binary_accuracy: 0.8909 - recall: 0.9399 - val_loss: 0.5053 - val_binary_accuracy: 0.7786 - val_recall: 0.3944\n",
            "Epoch 48/150\n",
            "10/10 [==============================] - 0s 6ms/step - loss: 0.2650 - binary_accuracy: 0.8951 - recall: 0.9417 - val_loss: 0.5259 - val_binary_accuracy: 0.7679 - val_recall: 0.4085\n",
            "Epoch 49/150\n",
            "10/10 [==============================] - 0s 8ms/step - loss: 0.2606 - binary_accuracy: 0.8898 - recall: 0.9311 - val_loss: 0.6076 - val_binary_accuracy: 0.7391 - val_recall: 0.4789\n",
            "Epoch 50/150\n",
            "10/10 [==============================] - 0s 6ms/step - loss: 0.2739 - binary_accuracy: 0.8891 - recall: 0.9396 - val_loss: 0.4969 - val_binary_accuracy: 0.7833 - val_recall: 0.3944\n",
            "Epoch 51/150\n",
            "10/10 [==============================] - 0s 6ms/step - loss: 0.2614 - binary_accuracy: 0.8980 - recall: 0.9489 - val_loss: 0.5116 - val_binary_accuracy: 0.7853 - val_recall: 0.3662\n",
            "Epoch 52/150\n",
            "10/10 [==============================] - 0s 8ms/step - loss: 0.2671 - binary_accuracy: 0.8915 - recall: 0.9383 - val_loss: 0.4277 - val_binary_accuracy: 0.8174 - val_recall: 0.3380\n",
            "Epoch 53/150\n",
            "10/10 [==============================] - 0s 8ms/step - loss: 0.2633 - binary_accuracy: 0.8941 - recall: 0.9420 - val_loss: 0.5193 - val_binary_accuracy: 0.7786 - val_recall: 0.4085\n",
            "Epoch 54/150\n",
            "10/10 [==============================] - 0s 8ms/step - loss: 0.2601 - binary_accuracy: 0.8917 - recall: 0.9402 - val_loss: 0.5167 - val_binary_accuracy: 0.7839 - val_recall: 0.4366\n",
            "Epoch 55/150\n",
            "10/10 [==============================] - 0s 6ms/step - loss: 0.2484 - binary_accuracy: 0.9004 - recall: 0.9447 - val_loss: 0.4852 - val_binary_accuracy: 0.7960 - val_recall: 0.3099\n",
            "Epoch 56/150\n",
            "10/10 [==============================] - 0s 8ms/step - loss: 0.2531 - binary_accuracy: 0.9028 - recall: 0.9456 - val_loss: 0.4878 - val_binary_accuracy: 0.8040 - val_recall: 0.4085\n",
            "Epoch 57/150\n",
            "10/10 [==============================] - 0s 8ms/step - loss: 0.2568 - binary_accuracy: 0.8944 - recall: 0.9435 - val_loss: 0.4788 - val_binary_accuracy: 0.8060 - val_recall: 0.3662\n",
            "Epoch 58/150\n",
            "10/10 [==============================] - 0s 8ms/step - loss: 0.2444 - binary_accuracy: 0.9045 - recall: 0.9432 - val_loss: 0.4997 - val_binary_accuracy: 0.8000 - val_recall: 0.3239\n",
            "Epoch 59/150\n",
            "10/10 [==============================] - 0s 6ms/step - loss: 0.2450 - binary_accuracy: 0.9033 - recall: 0.9480 - val_loss: 0.4964 - val_binary_accuracy: 0.8047 - val_recall: 0.3662\n",
            "Epoch 60/150\n",
            "10/10 [==============================] - 0s 6ms/step - loss: 0.2541 - binary_accuracy: 0.8989 - recall: 0.9374 - val_loss: 0.5257 - val_binary_accuracy: 0.7819 - val_recall: 0.3239\n",
            "Epoch 61/150\n",
            "10/10 [==============================] - 0s 8ms/step - loss: 0.2529 - binary_accuracy: 0.8971 - recall: 0.9423 - val_loss: 0.5201 - val_binary_accuracy: 0.7880 - val_recall: 0.3803\n",
            "Epoch 62/150\n",
            "10/10 [==============================] - 0s 8ms/step - loss: 0.2468 - binary_accuracy: 0.9000 - recall: 0.9441 - val_loss: 0.4484 - val_binary_accuracy: 0.8234 - val_recall: 0.3944\n",
            "Epoch 63/150\n",
            "10/10 [==============================] - 0s 6ms/step - loss: 0.2386 - binary_accuracy: 0.9060 - recall: 0.9438 - val_loss: 0.5266 - val_binary_accuracy: 0.7967 - val_recall: 0.3380\n",
            "Epoch 64/150\n",
            "10/10 [==============================] - 0s 7ms/step - loss: 0.2374 - binary_accuracy: 0.9077 - recall: 0.9465 - val_loss: 0.5270 - val_binary_accuracy: 0.7973 - val_recall: 0.3099\n",
            "Epoch 65/150\n",
            "10/10 [==============================] - 0s 8ms/step - loss: 0.2419 - binary_accuracy: 0.9057 - recall: 0.9426 - val_loss: 0.5727 - val_binary_accuracy: 0.7826 - val_recall: 0.4507\n",
            "Epoch 66/150\n",
            "10/10 [==============================] - 0s 6ms/step - loss: 0.2396 - binary_accuracy: 0.9042 - recall: 0.9471 - val_loss: 0.5671 - val_binary_accuracy: 0.7839 - val_recall: 0.3662\n",
            "Epoch 67/150\n",
            "10/10 [==============================] - 0s 6ms/step - loss: 0.2529 - binary_accuracy: 0.8998 - recall: 0.9444 - val_loss: 0.4798 - val_binary_accuracy: 0.8201 - val_recall: 0.3239\n",
            "Epoch 68/150\n",
            "10/10 [==============================] - 0s 9ms/step - loss: 0.2494 - binary_accuracy: 0.9025 - recall: 0.9420 - val_loss: 0.5448 - val_binary_accuracy: 0.7619 - val_recall: 0.3803\n",
            "Epoch 69/150\n",
            "10/10 [==============================] - 0s 6ms/step - loss: 0.2491 - binary_accuracy: 0.9024 - recall: 0.9414 - val_loss: 0.5396 - val_binary_accuracy: 0.7819 - val_recall: 0.3380\n",
            "Epoch 70/150\n",
            "10/10 [==============================] - 0s 8ms/step - loss: 0.2508 - binary_accuracy: 0.8985 - recall: 0.9489 - val_loss: 0.4677 - val_binary_accuracy: 0.8147 - val_recall: 0.2958\n",
            "Epoch 71/150\n",
            "10/10 [==============================] - 0s 8ms/step - loss: 0.2617 - binary_accuracy: 0.8957 - recall: 0.9420 - val_loss: 0.5477 - val_binary_accuracy: 0.7619 - val_recall: 0.4789\n",
            "Epoch 72/150\n",
            "10/10 [==============================] - 0s 12ms/step - loss: 0.2509 - binary_accuracy: 0.9000 - recall: 0.9535 - val_loss: 0.4746 - val_binary_accuracy: 0.8254 - val_recall: 0.3521\n",
            "Epoch 73/150\n",
            "10/10 [==============================] - 0s 12ms/step - loss: 0.2435 - binary_accuracy: 0.9018 - recall: 0.9420 - val_loss: 0.4731 - val_binary_accuracy: 0.8127 - val_recall: 0.2676\n",
            "Epoch 74/150\n",
            "10/10 [==============================] - 0s 10ms/step - loss: 0.2369 - binary_accuracy: 0.9102 - recall: 0.9471 - val_loss: 0.5385 - val_binary_accuracy: 0.7933 - val_recall: 0.4225\n",
            "Epoch 75/150\n",
            "10/10 [==============================] - 0s 9ms/step - loss: 0.2267 - binary_accuracy: 0.9145 - recall: 0.9619 - val_loss: 0.5290 - val_binary_accuracy: 0.8013 - val_recall: 0.3521\n",
            "Epoch 76/150\n",
            "10/10 [==============================] - 0s 10ms/step - loss: 0.2404 - binary_accuracy: 0.9037 - recall: 0.9444 - val_loss: 0.5258 - val_binary_accuracy: 0.7940 - val_recall: 0.3099\n",
            "Epoch 77/150\n",
            "10/10 [==============================] - 0s 10ms/step - loss: 0.2611 - binary_accuracy: 0.8933 - recall: 0.9211 - val_loss: 0.5629 - val_binary_accuracy: 0.7545 - val_recall: 0.3803\n",
            "Epoch 78/150\n",
            "10/10 [==============================] - 0s 9ms/step - loss: 0.2460 - binary_accuracy: 0.9004 - recall: 0.9504 - val_loss: 0.4581 - val_binary_accuracy: 0.8448 - val_recall: 0.3099\n",
            "Epoch 79/150\n",
            "10/10 [==============================] - 0s 10ms/step - loss: 0.2521 - binary_accuracy: 0.8986 - recall: 0.9420 - val_loss: 0.4969 - val_binary_accuracy: 0.8040 - val_recall: 0.3944\n",
            "Epoch 80/150\n",
            "10/10 [==============================] - 0s 12ms/step - loss: 0.2386 - binary_accuracy: 0.9072 - recall: 0.9462 - val_loss: 0.4879 - val_binary_accuracy: 0.8147 - val_recall: 0.3521\n",
            "Epoch 81/150\n",
            "10/10 [==============================] - 0s 11ms/step - loss: 0.2356 - binary_accuracy: 0.9056 - recall: 0.9423 - val_loss: 0.5251 - val_binary_accuracy: 0.8080 - val_recall: 0.3521\n",
            "Epoch 82/150\n",
            "10/10 [==============================] - 0s 10ms/step - loss: 0.2308 - binary_accuracy: 0.9092 - recall: 0.9498 - val_loss: 0.5095 - val_binary_accuracy: 0.8167 - val_recall: 0.3662\n",
            "Epoch 83/150\n",
            "10/10 [==============================] - 0s 9ms/step - loss: 0.2331 - binary_accuracy: 0.9090 - recall: 0.9453 - val_loss: 0.5262 - val_binary_accuracy: 0.8174 - val_recall: 0.3099\n",
            "Epoch 84/150\n",
            "10/10 [==============================] - 0s 10ms/step - loss: 0.2355 - binary_accuracy: 0.9050 - recall: 0.9383 - val_loss: 0.5503 - val_binary_accuracy: 0.7886 - val_recall: 0.3521\n",
            "Epoch 85/150\n",
            "10/10 [==============================] - 0s 12ms/step - loss: 0.2302 - binary_accuracy: 0.9089 - recall: 0.9498 - val_loss: 0.5335 - val_binary_accuracy: 0.8120 - val_recall: 0.3662\n",
            "Epoch 86/150\n",
            "10/10 [==============================] - 0s 10ms/step - loss: 0.2212 - binary_accuracy: 0.9160 - recall: 0.9589 - val_loss: 0.5464 - val_binary_accuracy: 0.7953 - val_recall: 0.4366\n",
            "Epoch 87/150\n",
            "10/10 [==============================] - 0s 10ms/step - loss: 0.2229 - binary_accuracy: 0.9170 - recall: 0.9574 - val_loss: 0.5572 - val_binary_accuracy: 0.8027 - val_recall: 0.4507\n",
            "Epoch 88/150\n",
            "10/10 [==============================] - 0s 10ms/step - loss: 0.2253 - binary_accuracy: 0.9130 - recall: 0.9529 - val_loss: 0.5771 - val_binary_accuracy: 0.7753 - val_recall: 0.3662\n",
            "Epoch 89/150\n",
            "10/10 [==============================] - 0s 9ms/step - loss: 0.2210 - binary_accuracy: 0.9173 - recall: 0.9574 - val_loss: 0.5309 - val_binary_accuracy: 0.8187 - val_recall: 0.2958\n",
            "Epoch 90/150\n",
            "10/10 [==============================] - 0s 11ms/step - loss: 0.2282 - binary_accuracy: 0.9137 - recall: 0.9474 - val_loss: 0.6028 - val_binary_accuracy: 0.7926 - val_recall: 0.3521\n",
            "Epoch 91/150\n",
            "10/10 [==============================] - 0s 9ms/step - loss: 0.2486 - binary_accuracy: 0.9030 - recall: 0.9507 - val_loss: 0.4661 - val_binary_accuracy: 0.8441 - val_recall: 0.2394\n",
            "Epoch 92/150\n",
            "10/10 [==============================] - 0s 9ms/step - loss: 0.2421 - binary_accuracy: 0.9039 - recall: 0.9447 - val_loss: 0.5094 - val_binary_accuracy: 0.8214 - val_recall: 0.3662\n",
            "Epoch 93/150\n",
            "10/10 [==============================] - 0s 10ms/step - loss: 0.2213 - binary_accuracy: 0.9181 - recall: 0.9601 - val_loss: 0.5734 - val_binary_accuracy: 0.7873 - val_recall: 0.3944\n",
            "Epoch 94/150\n",
            "10/10 [==============================] - 0s 11ms/step - loss: 0.2224 - binary_accuracy: 0.9172 - recall: 0.9610 - val_loss: 0.5358 - val_binary_accuracy: 0.8194 - val_recall: 0.3099\n",
            "Epoch 95/150\n",
            "10/10 [==============================] - 0s 9ms/step - loss: 0.2231 - binary_accuracy: 0.9149 - recall: 0.9544 - val_loss: 0.5540 - val_binary_accuracy: 0.8114 - val_recall: 0.3239\n",
            "Epoch 96/150\n",
            "10/10 [==============================] - 0s 11ms/step - loss: 0.2151 - binary_accuracy: 0.9180 - recall: 0.9616 - val_loss: 0.5164 - val_binary_accuracy: 0.8348 - val_recall: 0.3662\n",
            "Epoch 97/150\n",
            "10/10 [==============================] - 0s 11ms/step - loss: 0.2119 - binary_accuracy: 0.9196 - recall: 0.9538 - val_loss: 0.5688 - val_binary_accuracy: 0.8127 - val_recall: 0.3521\n",
            "Epoch 98/150\n",
            "10/10 [==============================] - 0s 10ms/step - loss: 0.2096 - binary_accuracy: 0.9190 - recall: 0.9574 - val_loss: 0.5797 - val_binary_accuracy: 0.7953 - val_recall: 0.3380\n",
            "Epoch 99/150\n",
            "10/10 [==============================] - 0s 11ms/step - loss: 0.2223 - binary_accuracy: 0.9160 - recall: 0.9541 - val_loss: 0.5531 - val_binary_accuracy: 0.8174 - val_recall: 0.2958\n",
            "Epoch 100/150\n",
            "10/10 [==============================] - 0s 10ms/step - loss: 0.2192 - binary_accuracy: 0.9166 - recall: 0.9538 - val_loss: 0.5964 - val_binary_accuracy: 0.7933 - val_recall: 0.4648\n",
            "Epoch 101/150\n",
            "10/10 [==============================] - 0s 6ms/step - loss: 0.2268 - binary_accuracy: 0.9119 - recall: 0.9519 - val_loss: 0.5649 - val_binary_accuracy: 0.8007 - val_recall: 0.3521\n",
            "Epoch 102/150\n",
            "10/10 [==============================] - 0s 6ms/step - loss: 0.2147 - binary_accuracy: 0.9176 - recall: 0.9556 - val_loss: 0.6268 - val_binary_accuracy: 0.7906 - val_recall: 0.4366\n",
            "Epoch 103/150\n",
            "10/10 [==============================] - 0s 7ms/step - loss: 0.2128 - binary_accuracy: 0.9184 - recall: 0.9601 - val_loss: 0.5655 - val_binary_accuracy: 0.8134 - val_recall: 0.3521\n",
            "Epoch 104/150\n",
            "10/10 [==============================] - 0s 9ms/step - loss: 0.2123 - binary_accuracy: 0.9199 - recall: 0.9574 - val_loss: 0.6096 - val_binary_accuracy: 0.7987 - val_recall: 0.3521\n",
            "Epoch 105/150\n",
            "10/10 [==============================] - 0s 7ms/step - loss: 0.2107 - binary_accuracy: 0.9186 - recall: 0.9544 - val_loss: 0.5607 - val_binary_accuracy: 0.8214 - val_recall: 0.2958\n",
            "Epoch 106/150\n",
            "10/10 [==============================] - 0s 8ms/step - loss: 0.2159 - binary_accuracy: 0.9152 - recall: 0.9480 - val_loss: 0.6077 - val_binary_accuracy: 0.7773 - val_recall: 0.3944\n",
            "Epoch 107/150\n",
            "10/10 [==============================] - 0s 9ms/step - loss: 0.2367 - binary_accuracy: 0.9089 - recall: 0.9453 - val_loss: 0.5608 - val_binary_accuracy: 0.7880 - val_recall: 0.3803\n",
            "Epoch 108/150\n",
            "10/10 [==============================] - 0s 8ms/step - loss: 0.2303 - binary_accuracy: 0.9095 - recall: 0.9550 - val_loss: 0.5332 - val_binary_accuracy: 0.8207 - val_recall: 0.3239\n",
            "Epoch 109/150\n",
            "10/10 [==============================] - 0s 7ms/step - loss: 0.2290 - binary_accuracy: 0.9102 - recall: 0.9459 - val_loss: 0.5993 - val_binary_accuracy: 0.7779 - val_recall: 0.4507\n",
            "Epoch 110/150\n",
            "10/10 [==============================] - 0s 7ms/step - loss: 0.2227 - binary_accuracy: 0.9122 - recall: 0.9498 - val_loss: 0.6245 - val_binary_accuracy: 0.7746 - val_recall: 0.4366\n",
            "Epoch 111/150\n",
            "10/10 [==============================] - 0s 7ms/step - loss: 0.2223 - binary_accuracy: 0.9134 - recall: 0.9538 - val_loss: 0.5476 - val_binary_accuracy: 0.8147 - val_recall: 0.2958\n",
            "Epoch 112/150\n",
            "10/10 [==============================] - 0s 8ms/step - loss: 0.2124 - binary_accuracy: 0.9176 - recall: 0.9601 - val_loss: 0.5364 - val_binary_accuracy: 0.8147 - val_recall: 0.3239\n",
            "Epoch 113/150\n",
            "10/10 [==============================] - 0s 7ms/step - loss: 0.2089 - binary_accuracy: 0.9198 - recall: 0.9580 - val_loss: 0.5756 - val_binary_accuracy: 0.8194 - val_recall: 0.3380\n",
            "Epoch 114/150\n",
            "10/10 [==============================] - 0s 8ms/step - loss: 0.2135 - binary_accuracy: 0.9170 - recall: 0.9538 - val_loss: 0.5775 - val_binary_accuracy: 0.8087 - val_recall: 0.3521\n",
            "Epoch 115/150\n",
            "10/10 [==============================] - 0s 9ms/step - loss: 0.2095 - binary_accuracy: 0.9195 - recall: 0.9532 - val_loss: 0.5390 - val_binary_accuracy: 0.8341 - val_recall: 0.2817\n",
            "Epoch 116/150\n",
            "10/10 [==============================] - 0s 6ms/step - loss: 0.2186 - binary_accuracy: 0.9173 - recall: 0.9541 - val_loss: 0.5908 - val_binary_accuracy: 0.7946 - val_recall: 0.3521\n",
            "Epoch 117/150\n",
            "10/10 [==============================] - 0s 8ms/step - loss: 0.2150 - binary_accuracy: 0.9158 - recall: 0.9568 - val_loss: 0.5493 - val_binary_accuracy: 0.8167 - val_recall: 0.3239\n",
            "Epoch 118/150\n",
            "10/10 [==============================] - 0s 8ms/step - loss: 0.2087 - binary_accuracy: 0.9205 - recall: 0.9607 - val_loss: 0.5710 - val_binary_accuracy: 0.8114 - val_recall: 0.3239\n",
            "Epoch 119/150\n",
            "10/10 [==============================] - 0s 9ms/step - loss: 0.2105 - binary_accuracy: 0.9180 - recall: 0.9577 - val_loss: 0.5693 - val_binary_accuracy: 0.8147 - val_recall: 0.3099\n",
            "Epoch 120/150\n",
            "10/10 [==============================] - 0s 8ms/step - loss: 0.2095 - binary_accuracy: 0.9222 - recall: 0.9577 - val_loss: 0.5683 - val_binary_accuracy: 0.8161 - val_recall: 0.2113\n",
            "Epoch 121/150\n",
            "10/10 [==============================] - 0s 9ms/step - loss: 0.2191 - binary_accuracy: 0.9175 - recall: 0.9465 - val_loss: 0.5924 - val_binary_accuracy: 0.7926 - val_recall: 0.3803\n",
            "Epoch 122/150\n",
            "10/10 [==============================] - 0s 9ms/step - loss: 0.2149 - binary_accuracy: 0.9178 - recall: 0.9574 - val_loss: 0.5258 - val_binary_accuracy: 0.8348 - val_recall: 0.2958\n",
            "Epoch 123/150\n",
            "10/10 [==============================] - 0s 7ms/step - loss: 0.2176 - binary_accuracy: 0.9178 - recall: 0.9471 - val_loss: 0.6101 - val_binary_accuracy: 0.7853 - val_recall: 0.4225\n",
            "Epoch 124/150\n",
            "10/10 [==============================] - 0s 6ms/step - loss: 0.2208 - binary_accuracy: 0.9154 - recall: 0.9519 - val_loss: 0.5885 - val_binary_accuracy: 0.7993 - val_recall: 0.3662\n",
            "Epoch 125/150\n",
            "10/10 [==============================] - 0s 9ms/step - loss: 0.2159 - binary_accuracy: 0.9195 - recall: 0.9592 - val_loss: 0.5138 - val_binary_accuracy: 0.8441 - val_recall: 0.2394\n",
            "Epoch 126/150\n",
            "10/10 [==============================] - 0s 8ms/step - loss: 0.2132 - binary_accuracy: 0.9158 - recall: 0.9544 - val_loss: 0.5597 - val_binary_accuracy: 0.8054 - val_recall: 0.2676\n",
            "Epoch 127/150\n",
            "10/10 [==============================] - 0s 7ms/step - loss: 0.2098 - binary_accuracy: 0.9198 - recall: 0.9589 - val_loss: 0.5807 - val_binary_accuracy: 0.8100 - val_recall: 0.3944\n",
            "Epoch 128/150\n",
            "10/10 [==============================] - 0s 6ms/step - loss: 0.2075 - binary_accuracy: 0.9205 - recall: 0.9577 - val_loss: 0.6048 - val_binary_accuracy: 0.7987 - val_recall: 0.3803\n",
            "Epoch 129/150\n",
            "10/10 [==============================] - 0s 7ms/step - loss: 0.2070 - binary_accuracy: 0.9210 - recall: 0.9562 - val_loss: 0.5761 - val_binary_accuracy: 0.8194 - val_recall: 0.2958\n",
            "Epoch 130/150\n",
            "10/10 [==============================] - 0s 8ms/step - loss: 0.2135 - binary_accuracy: 0.9173 - recall: 0.9577 - val_loss: 0.5481 - val_binary_accuracy: 0.8120 - val_recall: 0.2676\n",
            "Epoch 131/150\n",
            "10/10 [==============================] - 0s 7ms/step - loss: 0.2129 - binary_accuracy: 0.9164 - recall: 0.9601 - val_loss: 0.5812 - val_binary_accuracy: 0.8428 - val_recall: 0.2676\n",
            "Epoch 132/150\n",
            "10/10 [==============================] - 0s 7ms/step - loss: 0.2169 - binary_accuracy: 0.9158 - recall: 0.9498 - val_loss: 0.6059 - val_binary_accuracy: 0.7926 - val_recall: 0.3662\n",
            "Epoch 133/150\n",
            "10/10 [==============================] - 0s 7ms/step - loss: 0.2145 - binary_accuracy: 0.9167 - recall: 0.9532 - val_loss: 0.6268 - val_binary_accuracy: 0.7920 - val_recall: 0.3662\n",
            "Epoch 134/150\n",
            "10/10 [==============================] - 0s 7ms/step - loss: 0.2160 - binary_accuracy: 0.9172 - recall: 0.9592 - val_loss: 0.5423 - val_binary_accuracy: 0.8254 - val_recall: 0.2817\n",
            "Epoch 135/150\n",
            "10/10 [==============================] - 0s 8ms/step - loss: 0.2020 - binary_accuracy: 0.9228 - recall: 0.9565 - val_loss: 0.5858 - val_binary_accuracy: 0.8147 - val_recall: 0.3803\n",
            "Epoch 136/150\n",
            "10/10 [==============================] - 0s 9ms/step - loss: 0.2089 - binary_accuracy: 0.9204 - recall: 0.9526 - val_loss: 0.5817 - val_binary_accuracy: 0.8361 - val_recall: 0.2817\n",
            "Epoch 137/150\n",
            "10/10 [==============================] - 0s 7ms/step - loss: 0.2091 - binary_accuracy: 0.9190 - recall: 0.9516 - val_loss: 0.6001 - val_binary_accuracy: 0.8027 - val_recall: 0.3380\n",
            "Epoch 138/150\n",
            "10/10 [==============================] - 0s 7ms/step - loss: 0.2057 - binary_accuracy: 0.9211 - recall: 0.9574 - val_loss: 0.5690 - val_binary_accuracy: 0.8167 - val_recall: 0.2817\n",
            "Epoch 139/150\n",
            "10/10 [==============================] - 0s 6ms/step - loss: 0.2054 - binary_accuracy: 0.9228 - recall: 0.9523 - val_loss: 0.5944 - val_binary_accuracy: 0.8181 - val_recall: 0.2958\n",
            "Epoch 140/150\n",
            "10/10 [==============================] - 0s 9ms/step - loss: 0.1955 - binary_accuracy: 0.9279 - recall: 0.9631 - val_loss: 0.6082 - val_binary_accuracy: 0.8100 - val_recall: 0.3662\n",
            "Epoch 141/150\n",
            "10/10 [==============================] - 0s 7ms/step - loss: 0.1965 - binary_accuracy: 0.9266 - recall: 0.9583 - val_loss: 0.5905 - val_binary_accuracy: 0.8348 - val_recall: 0.3099\n",
            "Epoch 142/150\n",
            "10/10 [==============================] - 0s 8ms/step - loss: 0.1941 - binary_accuracy: 0.9275 - recall: 0.9610 - val_loss: 0.6159 - val_binary_accuracy: 0.8107 - val_recall: 0.2958\n",
            "Epoch 143/150\n",
            "10/10 [==============================] - 0s 8ms/step - loss: 0.2058 - binary_accuracy: 0.9232 - recall: 0.9571 - val_loss: 0.5989 - val_binary_accuracy: 0.8221 - val_recall: 0.3380\n",
            "Epoch 144/150\n",
            "10/10 [==============================] - 0s 9ms/step - loss: 0.2154 - binary_accuracy: 0.9163 - recall: 0.9538 - val_loss: 0.5709 - val_binary_accuracy: 0.8341 - val_recall: 0.3099\n",
            "Epoch 145/150\n",
            "10/10 [==============================] - 0s 9ms/step - loss: 0.2014 - binary_accuracy: 0.9240 - recall: 0.9604 - val_loss: 0.5702 - val_binary_accuracy: 0.8388 - val_recall: 0.3521\n",
            "Epoch 146/150\n",
            "10/10 [==============================] - 0s 7ms/step - loss: 0.1969 - binary_accuracy: 0.9272 - recall: 0.9613 - val_loss: 0.5819 - val_binary_accuracy: 0.8288 - val_recall: 0.2958\n",
            "Epoch 147/150\n",
            "10/10 [==============================] - 0s 9ms/step - loss: 0.1907 - binary_accuracy: 0.9306 - recall: 0.9674 - val_loss: 0.5793 - val_binary_accuracy: 0.8375 - val_recall: 0.2958\n",
            "Epoch 148/150\n",
            "10/10 [==============================] - 0s 7ms/step - loss: 0.1924 - binary_accuracy: 0.9306 - recall: 0.9625 - val_loss: 0.6285 - val_binary_accuracy: 0.8187 - val_recall: 0.3521\n",
            "Epoch 149/150\n",
            "10/10 [==============================] - 0s 8ms/step - loss: 0.1929 - binary_accuracy: 0.9272 - recall: 0.9640 - val_loss: 0.6128 - val_binary_accuracy: 0.8334 - val_recall: 0.2676\n",
            "Epoch 150/150\n",
            "10/10 [==============================] - 0s 9ms/step - loss: 0.1935 - binary_accuracy: 0.9282 - recall: 0.9592 - val_loss: 0.6263 - val_binary_accuracy: 0.8174 - val_recall: 0.2535\n",
            "¡Modelo entrenado! \n"
          ]
        }
      ]
    },
    {
      "cell_type": "code",
      "source": [
        "#Predicciones\n",
        "predictions=modelo.predict(X_test).round()"
      ],
      "metadata": {
        "colab": {
          "base_uri": "https://localhost:8080/"
        },
        "id": "SfYP4tUkiYRj",
        "outputId": "ebba4b4f-b7c2-49b8-a435-93a6b18ed899"
      },
      "execution_count": 55,
      "outputs": [
        {
          "output_type": "stream",
          "name": "stdout",
          "text": [
            "47/47 [==============================] - 0s 1ms/step\n"
          ]
        }
      ]
    },
    {
      "cell_type": "code",
      "source": [
        "#Analisis del modelo.\n",
        "plt.xlabel('Número de Entrenamiento')\n",
        "plt.ylabel('Mágnitud de pérdida')\n",
        "plt.plot(resultados.history['loss'])\n"
      ],
      "metadata": {
        "colab": {
          "base_uri": "https://localhost:8080/",
          "height": 466
        },
        "id": "_oIdzJb1Tj7M",
        "outputId": "a8454571-3370-4e3c-d2ba-ecf2b27a4a7c"
      },
      "execution_count": 56,
      "outputs": [
        {
          "output_type": "execute_result",
          "data": {
            "text/plain": [
              "[<matplotlib.lines.Line2D at 0x7f37d1b811b0>]"
            ]
          },
          "metadata": {},
          "execution_count": 56
        },
        {
          "output_type": "display_data",
          "data": {
            "text/plain": [
              "<Figure size 640x480 with 1 Axes>"
            ],
            "image/png": "[encoded data removed]"
          },
          "metadata": {}
        }
      ]
    },
    {
      "cell_type": "code",
      "source": [
        "#Analisis del modelo.\n",
        "print(classification_report(y_test, predictions))"
      ],
      "metadata": {
        "colab": {
          "base_uri": "https://localhost:8080/"
        },
        "id": "sztl-cis8MmY",
        "outputId": "5ed29ff2-91be-4a39-c969-afd4b2b268b6"
      },
      "execution_count": 57,
      "outputs": [
        {
          "output_type": "stream",
          "name": "stdout",
          "text": [
            "              precision    recall  f1-score   support\n",
            "\n",
            "           0       0.96      0.85      0.90      1424\n",
            "           1       0.08      0.25      0.12        71\n",
            "\n",
            "    accuracy                           0.82      1495\n",
            "   macro avg       0.52      0.55      0.51      1495\n",
            "weighted avg       0.92      0.82      0.86      1495\n",
            "\n"
          ]
        }
      ]
    },
    {
      "cell_type": "code",
      "source": [
        "#Confusión matrix de las predicciones del modelo.\n",
        "print(confusion_matrix(y_test,predictions))"
      ],
      "metadata": {
        "colab": {
          "base_uri": "https://localhost:8080/"
        },
        "id": "X9rxh1VQ3I6o",
        "outputId": "aa5bb9c6-7584-49f8-b131-eea0245b2e1a"
      },
      "execution_count": 58,
      "outputs": [
        {
          "output_type": "stream",
          "name": "stdout",
          "text": [
            "[[1204  220]\n",
            " [  53   18]]\n"
          ]
        }
      ]
    },
    {
      "cell_type": "code",
      "source": [
        "#Guardamos el modelo\n",
        "modelo.save('/content/modeloACV.h5')\n"
      ],
      "metadata": {
        "id": "3ZmbYZlu8asS"
      },
      "execution_count": 59,
      "outputs": []
    }
  ]
}